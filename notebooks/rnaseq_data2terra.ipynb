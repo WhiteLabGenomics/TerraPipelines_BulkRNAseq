{
 "cells": [
  {
   "attachments": {},
   "cell_type": "markdown",
   "id": "65800599",
   "metadata": {},
   "source": [
    "### Data uploading to Terra.bio platform"
   ]
  },
  {
   "attachments": {},
   "cell_type": "markdown",
   "id": "67cf3b90",
   "metadata": {},
   "source": [
    "#### 1. Upload fastq files from bucket to Terra"
   ]
  },
  {
   "cell_type": "code",
   "execution_count": 1,
   "id": "19bd6476",
   "metadata": {},
   "outputs": [],
   "source": [
    "%load_ext autoreload\n",
    "%autoreload 2"
   ]
  },
  {
   "cell_type": "code",
   "execution_count": 2,
   "id": "9576a5d4",
   "metadata": {},
   "outputs": [],
   "source": [
    "import warnings\n",
    "\n",
    "from basicAtlas import terra"
   ]
  },
  {
   "cell_type": "code",
   "execution_count": 3,
   "id": "da9c0d45",
   "metadata": {},
   "outputs": [],
   "source": [
    "warnings.filterwarnings(\"ignore\")"
   ]
  },
  {
   "cell_type": "code",
   "execution_count": 4,
   "id": "426d91d3",
   "metadata": {},
   "outputs": [],
   "source": [
    "### Variables definition ###\n",
    "GCP_BUCKET=\"gs://gliese_ph3\"\n",
    "GCP_FOLDER_NAME=\"input_fq_test\"\n",
    "TERRA_WS = 'whitelabgx/bulkRNAseq'\n",
    "PROJECT=\"test_ph3\""
   ]
  },
  {
   "cell_type": "code",
   "execution_count": 5,
   "id": "d742c74d",
   "metadata": {},
   "outputs": [
    {
     "name": "stdout",
     "output_type": "stream",
     "text": [
      "please be sure you gave access to your terra email account access to this bucket\n",
      "['input_fq_test/RSeq-01-001_R1_001.fastq.gz', 'input_fq_test/RSeq-01-001_R2_001.fastq.gz', 'input_fq_test/RSeq-01-002_R1_001.fastq.gz', 'input_fq_test/RSeq-01-002_R2_001.fastq.gz']\n",
      "Successfully imported 2 participants.\n",
      "Successfully imported 2 samples.\n",
      "Successfully imported 1 sample sets:\n",
      "  * test_ph3 (2 samples)\n"
     ]
    },
    {
     "data": {
      "text/html": [
       "<div>\n",
       "<style scoped>\n",
       "    .dataframe tbody tr th:only-of-type {\n",
       "        vertical-align: middle;\n",
       "    }\n",
       "\n",
       "    .dataframe tbody tr th {\n",
       "        vertical-align: top;\n",
       "    }\n",
       "\n",
       "    .dataframe thead th {\n",
       "        text-align: right;\n",
       "    }\n",
       "</style>\n",
       "<table border=\"1\" class=\"dataframe\">\n",
       "  <thead>\n",
       "    <tr style=\"text-align: right;\">\n",
       "      <th></th>\n",
       "      <th>fastq1</th>\n",
       "      <th>fastq2</th>\n",
       "      <th>Source</th>\n",
       "      <th>participant</th>\n",
       "    </tr>\n",
       "    <tr>\n",
       "      <th>sample_id</th>\n",
       "      <th></th>\n",
       "      <th></th>\n",
       "      <th></th>\n",
       "      <th></th>\n",
       "    </tr>\n",
       "  </thead>\n",
       "  <tbody>\n",
       "    <tr>\n",
       "      <th>RSeq-01-001</th>\n",
       "      <td>gs://gs://gliese_ph3/input_fq_test//input_fq_t...</td>\n",
       "      <td>gs://gs://gliese_ph3/input_fq_test//input_fq_t...</td>\n",
       "      <td>U</td>\n",
       "      <td>RSeq-01-001</td>\n",
       "    </tr>\n",
       "    <tr>\n",
       "      <th>RSeq-01-002</th>\n",
       "      <td>gs://gs://gliese_ph3/input_fq_test//input_fq_t...</td>\n",
       "      <td>gs://gs://gliese_ph3/input_fq_test//input_fq_t...</td>\n",
       "      <td>U</td>\n",
       "      <td>RSeq-01-002</td>\n",
       "    </tr>\n",
       "  </tbody>\n",
       "</table>\n",
       "</div>"
      ],
      "text/plain": [
       "                                                        fastq1  \\\n",
       "sample_id                                                        \n",
       "RSeq-01-001  gs://gs://gliese_ph3/input_fq_test//input_fq_t...   \n",
       "RSeq-01-002  gs://gs://gliese_ph3/input_fq_test//input_fq_t...   \n",
       "\n",
       "                                                        fastq2 Source  \\\n",
       "sample_id                                                               \n",
       "RSeq-01-001  gs://gs://gliese_ph3/input_fq_test//input_fq_t...      U   \n",
       "RSeq-01-002  gs://gs://gliese_ph3/input_fq_test//input_fq_t...      U   \n",
       "\n",
       "             participant  \n",
       "sample_id                 \n",
       "RSeq-01-001  RSeq-01-001  \n",
       "RSeq-01-002  RSeq-01-002  "
      ]
     },
     "execution_count": 5,
     "metadata": {},
     "output_type": "execute_result"
    }
   ],
   "source": [
    "# Uploaded samples in google bucket associated with terra workspace\n",
    "terra.uploadFromFolder(GCP_BUCKET + '/' + GCP_FOLDER_NAME + '/',\n",
    "                           TERRA_WS,\n",
    "                           samplesetname=PROJECT,\n",
    "                           fformat=\"fastqR1R2\",\n",
    "                           sep='_R1|_R2',\n",
    "                           test=False)"
   ]
  }
 ],
 "metadata": {
  "kernelspec": {
   "display_name": "bulk",
   "language": "python",
   "name": "python3"
  },
  "language_info": {
   "codemirror_mode": {
    "name": "ipython",
    "version": 3
   },
   "file_extension": ".py",
   "mimetype": "text/x-python",
   "name": "python",
   "nbconvert_exporter": "python",
   "pygments_lexer": "ipython3",
   "version": "3.9.17"
  }
 },
 "nbformat": 4,
 "nbformat_minor": 5
}
