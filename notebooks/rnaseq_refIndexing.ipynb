{
 "cells": [
  {
   "attachments": {},
   "cell_type": "markdown",
   "id": "65800599",
   "metadata": {},
   "source": [
    "### Reference Indexing for RNA-seq preprocessing"
   ]
  },
  {
   "attachments": {},
   "cell_type": "markdown",
   "id": "e9517c87",
   "metadata": {},
   "source": [
    "#### 1. Tools installation"
   ]
  },
  {
   "cell_type": "code",
   "execution_count": null,
   "id": "4db03ca4",
   "metadata": {
    "vscode": {
     "languageId": "shellscript"
    }
   },
   "outputs": [],
   "source": [
    "# STAR\n",
    "!conda install -c \"bioconda/label/main\" star\n",
    "# RSEM\n",
    "!conda install -c \"bioconda/label/main\" rsem"
   ]
  },
  {
   "attachments": {},
   "cell_type": "markdown",
   "id": "bfea075f",
   "metadata": {},
   "source": [
    "#### 2. Download reference genome"
   ]
  },
  {
   "cell_type": "code",
   "execution_count": null,
   "id": "729e885e",
   "metadata": {
    "vscode": {
     "languageId": "shellscript"
    }
   },
   "outputs": [],
   "source": [
    "### Download reference genome to instances VM from Bucket ###\n",
    "!gsutil cp \"gs://whitelabgx-references/hg38/gencode.v27.primary_assembly.annotation.gtf\" .\n",
    "!gsutil cp \"gs://whitelabgx-references/hg38/GRCh38.primary_assembly.genome.fa\" ."
   ]
  },
  {
   "attachments": {},
   "cell_type": "markdown",
   "id": "bec3f406",
   "metadata": {},
   "source": [
    "#### 3. Reference indexing"
   ]
  },
  {
   "cell_type": "code",
   "execution_count": 1,
   "id": "e623fe0b",
   "metadata": {
    "vscode": {
     "languageId": "shellscript"
    }
   },
   "outputs": [],
   "source": [
    "### Variables definition ###\n",
    "GENOME_FA=\"../tmp/GRCh38.primary_assembly.genome.fa\"\n",
    "GENOME_GTF=\"../tmp/gencode.v27.primary_assembly.annotation.gtf\""
   ]
  },
  {
   "attachments": {},
   "cell_type": "markdown",
   "id": "c7291b7e",
   "metadata": {},
   "source": [
    "##### 3.1. Build the STAR index"
   ]
  },
  {
   "cell_type": "code",
   "execution_count": 4,
   "id": "97b20da2",
   "metadata": {
    "vscode": {
     "languageId": "shellscript"
    }
   },
   "outputs": [
    {
     "name": "stdout",
     "output_type": "stream",
     "text": [
      "\t/home/xiliu/.conda/envs/bulk/bin/STAR-avx2 --runThreadN 14 --runMode genomeGenerate --genomeDir ../tmp/star_index_101bp --genomeFastaFiles ../tmp/GRCh38.primary_assembly.genome.fa --sjdbGTFfile ../tmp/gencode.v27.primary_assembly.annotation.gtf --sjdbOverhang 100\n",
      "\tSTAR version: 2.7.11a   compiled: 2023-09-15T02:58:53+0000 :/opt/conda/conda-bld/star_1694746407721/work/source\n",
      "Nov 30 15:09:28 ..... started STAR run\n",
      "Nov 30 15:09:28 ... starting to generate Genome files\n",
      "Nov 30 15:10:24 ..... processing annotations GTF\n",
      "Nov 30 15:10:55 ... starting to sort Suffix Array. This may take a long time...\n",
      "Nov 30 15:11:10 ... sorting Suffix Array chunks and saving them to disk...\n",
      "Nov 30 15:47:39 ... loading chunks from disk, packing SA...\n",
      "Nov 30 15:49:41 ... finished generating suffix array\n",
      "Nov 30 15:49:41 ... generating Suffix Array index\n",
      "Nov 30 15:53:07 ... completed Suffix Array index\n",
      "Nov 30 15:53:08 ..... inserting junctions into the genome indices\n",
      "Nov 30 15:56:46 ... writing Genome to disk ...\n",
      "Nov 30 15:56:48 ... writing Suffix Array to disk ...\n",
      "Nov 30 15:57:31 ... writing SAindex to disk\n",
      "Nov 30 15:57:37 ..... finished successfully\n"
     ]
    }
   ],
   "source": [
    "!mkdir ../tmp/star_index_101bp\n",
    "!STAR --runThreadN 14\\\n",
    "      --runMode genomeGenerate \\\n",
    "      --genomeDir ../tmp/star_index_101bp \\\n",
    "      --genomeFastaFiles $GENOME_FA \\\n",
    "      --sjdbGTFfile $GENOME_GTF \\\n",
    "      --sjdbOverhang 100"
   ]
  },
  {
   "cell_type": "code",
   "execution_count": 5,
   "id": "d5fa06a6",
   "metadata": {
    "vscode": {
     "languageId": "shellscript"
    }
   },
   "outputs": [],
   "source": [
    "# TODO: check \n",
    "!tar -czf ../tmp/star_index_101bp.tar.gz -C ../tmp/star_index_101bp ."
   ]
  },
  {
   "attachments": {},
   "cell_type": "markdown",
   "id": "cf4e7b0d",
   "metadata": {},
   "source": [
    "##### 3.2. Build the RSEM index"
   ]
  },
  {
   "cell_type": "code",
   "execution_count": 2,
   "id": "9ef5b4f2",
   "metadata": {
    "vscode": {
     "languageId": "shellscript"
    }
   },
   "outputs": [
    {
     "name": "stdout",
     "output_type": "stream",
     "text": [
      "rsem-extract-reference-transcripts ../tmp/rsem_index/rsem_reference 0 ../tmp/gencode.v27.primary_assembly.annotation.gtf None 0 ../tmp/GRCh38.primary_assembly.genome.fa\n",
      "Parsed 200000 lines\n",
      "Parsed 400000 lines\n",
      "Parsed 600000 lines\n",
      "Parsed 800000 lines\n",
      "Parsed 1000000 lines\n",
      "Parsed 1200000 lines\n",
      "Parsed 1400000 lines\n",
      "Parsed 1600000 lines\n",
      "Parsed 1800000 lines\n",
      "Parsed 2000000 lines\n",
      "Parsed 2200000 lines\n",
      "Parsed 2400000 lines\n",
      "Parsed 2600000 lines\n",
      "Parsing gtf File is done!\n",
      "../tmp/GRCh38.primary_assembly.genome.fa is processed!\n",
      "200468 transcripts are extracted.\n",
      "Extracting sequences is done!\n",
      "Group File is generated!\n",
      "Transcript Information File is generated!\n",
      "Chromosome List File is generated!\n",
      "Extracted Sequences File is generated!\n",
      "\n",
      "rsem-preref ../tmp/rsem_index/rsem_reference.transcripts.fa 1 ../tmp/rsem_index/rsem_reference\n",
      "Refs.makeRefs finished!\n",
      "Refs.saveRefs finished!\n",
      "../tmp/rsem_index/rsem_reference.idx.fa is generated!\n",
      "../tmp/rsem_index/rsem_reference.n2g.idx.fa is generated!\n",
      "\n"
     ]
    }
   ],
   "source": [
    "!mkdir ../tmp/rsem_index\n",
    "!rsem-prepare-reference $GENOME_FA --gtf $GENOME_GTF \\\n",
    "  ../tmp/rsem_index/rsem_reference \\\n",
    "  --num-threads 16"
   ]
  },
  {
   "cell_type": "code",
   "execution_count": 3,
   "id": "a3bd54d4",
   "metadata": {
    "vscode": {
     "languageId": "shellscript"
    }
   },
   "outputs": [],
   "source": [
    "!tar -czf ../tmp/rsem_index.tar.gz -C ../tmp/rsem_index ."
   ]
  },
  {
   "cell_type": "markdown",
   "id": "a26ff8d2",
   "metadata": {},
   "source": [
    "#### 4. Upload the reference index to the cloud"
   ]
  },
  {
   "cell_type": "code",
   "execution_count": 6,
   "id": "31a036b0",
   "metadata": {
    "vscode": {
     "languageId": "shellscript"
    }
   },
   "outputs": [],
   "source": [
    "! mv ../tmp/star_index_101bp.tar.gz ../tmp/GRCh38_gencodeV27_primaryAssembly_star_index_101bp.tar.gz\n",
    "! mv ../tmp/rsem_index.tar.gz ../tmp/GRCh38_gencodeV27_primaryAssembly_rsem_index.tar.gz"
   ]
  },
  {
   "cell_type": "code",
   "execution_count": 2,
   "id": "b5402a62",
   "metadata": {
    "vscode": {
     "languageId": "shellscript"
    }
   },
   "outputs": [
    {
     "name": "stdout",
     "output_type": "stream",
     "text": [
      "Copying file://../tmp/GRCh38_gencodeV27_primaryAssembly_rsem_index.tar.gz [Content-Type=application/x-tar]...\n",
      "==> NOTE: You are uploading one or more large file(s), which would run          \n",
      "significantly faster if you enable parallel composite uploads. This\n",
      "feature can be enabled by editing the\n",
      "\"parallel_composite_upload_threshold\" value in your .boto\n",
      "configuration file. However, note that if you do this large files will\n",
      "be uploaded as `composite objects\n",
      "<https://cloud.google.com/storage/docs/composite-objects>`_,which\n",
      "means that any user who downloads such objects will need to have a\n",
      "compiled crcmod installed (see \"gsutil help crcmod\"). This is because\n",
      "without a compiled crcmod, computing checksums on composite objects is\n",
      "so slow that gsutil disables downloads of composite objects.\n",
      "\n",
      "- [1 files][190.7 MiB/190.7 MiB]                                                \n",
      "Operation completed over 1 objects/190.7 MiB.                                    \n",
      "Copying file://../tmp/GRCh38_gencodeV27_primaryAssembly_star_index_101bp.tar.gz [Content-Type=application/x-tar]...\n",
      "==> NOTE: You are uploading one or more large file(s), which would run          \n",
      "significantly faster if you enable parallel composite uploads. This\n",
      "feature can be enabled by editing the\n",
      "\"parallel_composite_upload_threshold\" value in your .boto\n",
      "configuration file. However, note that if you do this large files will\n",
      "be uploaded as `composite objects\n",
      "<https://cloud.google.com/storage/docs/composite-objects>`_,which\n",
      "means that any user who downloads such objects will need to have a\n",
      "compiled crcmod installed (see \"gsutil help crcmod\"). This is because\n",
      "without a compiled crcmod, computing checksums on composite objects is\n",
      "so slow that gsutil disables downloads of composite objects.\n",
      "\n",
      "| [1 files][ 25.0 GiB/ 25.0 GiB]  142.3 MiB/s                                   \n",
      "Operation completed over 1 objects/25.0 GiB.                                     \n"
     ]
    }
   ],
   "source": [
    "!gsutil cp -r ../tmp/GRCh38_gencodeV27_primaryAssembly_rsem_index.tar.gz gs://whitelabgx-references/hg38/\n",
    "!gsutil cp -r ../tmp/GRCh38_gencodeV27_primaryAssembly_star_index_101bp.tar.gz gs://whitelabgx-references/hg38/"
   ]
  }
 ],
 "metadata": {
  "kernelspec": {
   "display_name": "luna",
   "language": "python",
   "name": "python3"
  },
  "language_info": {
   "codemirror_mode": {
    "name": "ipython",
    "version": 3
   },
   "file_extension": ".py",
   "mimetype": "text/x-python",
   "name": "python",
   "nbconvert_exporter": "python",
   "pygments_lexer": "ipython3",
   "version": "3.9.16"
  }
 },
 "nbformat": 4,
 "nbformat_minor": 5
}
