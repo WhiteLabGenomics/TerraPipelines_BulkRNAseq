{
 "cells": [
  {
   "cell_type": "markdown",
   "metadata": {},
   "source": [
    "###  Implement of RNA-seq preprocessing pipeline\n",
    "#### Aim of this implementation is to preprocess RNA-seq data from raw reads to gene expression matrix. Using the bulk v1 pipeline that was created for Luna project and the GTEx consorsium's pipeline as a reference."
   ]
  },
  {
   "cell_type": "markdown",
   "metadata": {},
   "source": [
    "#### Downloading and updating information of the scripts"
   ]
  },
  {
   "cell_type": "markdown",
   "metadata": {},
   "source": [
    "RNA_preprocessing_pipeline.wdl: from Luna project\n",
    "\n",
    "fastqc\n",
    "1. fastqc.wdl: script used for Luna project from Leiden University Medical Center with release 2017 => We chose to use the one, debug and update on which from the GTEx's script\n",
    "2. fastqc_gtex.wdl: modified from fastqc.wdl of GTEx (https://github.com/broadinstitute/gtex-pipeline/blob/master/rnaseq/fastqc.wdl Aug 18, 2020) \n",
    "\n",
    "fastp\n",
    "1. fastp_luna.wdl: script used for Luna project\n",
    "2. https://github.com/biowdl/tasks/blob/develop/fastp.wdl Mar 3, 2023. script developed by the SASC team at Leiden University Medical Center. => We chose to use the one by modifying it.\n",
    "\n",
    "STAR\n",
    "1. star_gtex.wdl: https://github.com/broadinstitute/gtex-pipeline/blob/master/rnaseq/star.wdl Jul 29, 2020\n",
    "2. star.wdl: version Luna (folk by Jérémie): add L3-L5, L142-167. modification L12-42, STAR options are fixed instead of being optional. => We chose to use the one\n",
    "\n",
    "rnaseqc2\n",
    "1. rnaseqc2_gtex.wdl: https://github.com/broadinstitute/gtex-pipeline/blob/master/rnaseq/rnaseqc2.wdl Mar 6, 2021\n",
    "2. rnaseqc2.wdl: update form the GTEx's script by setting computation parameters, gave up gc_content output in Luna project. We re-added gc_content output in this script=> We chose to use the one\n",
    "\n",
    "rsem\n",
    "1. rsem.wdl: update from GTEx script (see below) by David WU for CCLC project (using the run_RSEM_david.py). Some parameters are fixed instead of being optional. Using the same docker image as GTEx's script. => We chose to use the one\n",
    "2. rsem_gtex.wdl: https://github.com/broadinstitute/gtex-pipeline/blob/master/rnaseq/rsem.wdl Jul 29, 2020"
   ]
  },
  {
   "cell_type": "markdown",
   "metadata": {},
   "source": [
    "#### Pipeline validation"
   ]
  },
  {
   "cell_type": "code",
   "execution_count": 19,
   "metadata": {
    "vscode": {
     "languageId": "shellscript"
    }
   },
   "outputs": [
    {
     "name": "stdout",
     "output_type": "stream",
     "text": [
      "Success!\n",
      "List of Workflow dependencies is:\n",
      "/Users/xiliu/Documents/analysis/TerraPipelines_BulkRNAseq/tasks/fastp.wdl\n",
      "/Users/xiliu/Documents/analysis/TerraPipelines_BulkRNAseq/tasks/star.wdl\n",
      "/Users/xiliu/Documents/analysis/TerraPipelines_BulkRNAseq/tasks/fastqc.wdl\n",
      "/Users/xiliu/Documents/analysis/TerraPipelines_BulkRNAseq/tasks/rsem.wdl\n",
      "/Users/xiliu/Documents/analysis/TerraPipelines_BulkRNAseq/tasks/rnaseqc2.wdl\n"
     ]
    }
   ],
   "source": [
    "### Syntex validation ###\n",
    "!java -jar ../../womtool/womtool-85.jar validate -l ../rnaseq/RNA_preprocessing_pipeline.wdl"
   ]
  }
 ],
 "metadata": {
  "kernelspec": {
   "display_name": "bulk",
   "language": "python",
   "name": "python3"
  },
  "language_info": {
   "codemirror_mode": {
    "name": "ipython",
    "version": 3
   },
   "file_extension": ".py",
   "mimetype": "text/x-python",
   "name": "python",
   "nbconvert_exporter": "python",
   "pygments_lexer": "ipython3",
   "version": "3.9.17"
  },
  "orig_nbformat": 4
 },
 "nbformat": 4,
 "nbformat_minor": 2
}
